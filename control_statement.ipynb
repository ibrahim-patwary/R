{
 "cells": [
  {
   "cell_type": "code",
   "execution_count": 1,
   "id": "640e7220",
   "metadata": {},
   "outputs": [
    {
     "name": "stdout",
     "output_type": "stream",
     "text": [
      "[1] \"Done\"\n"
     ]
    }
   ],
   "source": [
    "x=10\n",
    "if(x>5){\n",
    "    print(\"Done\")\n",
    "}"
   ]
  },
  {
   "cell_type": "code",
   "execution_count": 4,
   "id": "16d78c23",
   "metadata": {},
   "outputs": [
    {
     "name": "stdout",
     "output_type": "stream",
     "text": [
      "[1] \"Pass\"\n"
     ]
    }
   ],
   "source": [
    "num=33\n",
    "if(num<33){\n",
    "    print(\"Fail\")\n",
    "}else{\n",
    "    print(\"Pass\")\n",
    "}"
   ]
  },
  {
   "cell_type": "code",
   "execution_count": 1,
   "id": "11c6efb1",
   "metadata": {},
   "outputs": [
    {
     "data": {
      "text/html": [
       "<ol class=list-inline>\n",
       "\t<li>'odd'</li>\n",
       "\t<li>'odd'</li>\n",
       "\t<li>'even'</li>\n",
       "\t<li>'odd'</li>\n",
       "</ol>\n"
      ],
      "text/latex": [
       "\\begin{enumerate*}\n",
       "\\item 'odd'\n",
       "\\item 'odd'\n",
       "\\item 'even'\n",
       "\\item 'odd'\n",
       "\\end{enumerate*}\n"
      ],
      "text/markdown": [
       "1. 'odd'\n",
       "2. 'odd'\n",
       "3. 'even'\n",
       "4. 'odd'\n",
       "\n",
       "\n"
      ],
      "text/plain": [
       "[1] \"odd\"  \"odd\"  \"even\" \"odd\" "
      ]
     },
     "metadata": {},
     "output_type": "display_data"
    }
   ],
   "source": [
    "# create a vector\n",
    "a = c(5,7,2,9)\n",
    "# check if each element in a is even or odd\n",
    "ifelse(a %% 2 == 0,\"even\",\"odd\")"
   ]
  },
  {
   "cell_type": "code",
   "execution_count": 8,
   "id": "53b86da8",
   "metadata": {},
   "outputs": [
    {
     "name": "stdout",
     "output_type": "stream",
     "text": [
      "[1] \"Bad Luck\"\n"
     ]
    }
   ],
   "source": [
    "num=40\n",
    "if(num<33){\n",
    "    print(\"Fail\")\n",
    "}\n",
    "if(num>=33&num<=50){\n",
    "    print(\"Bad Luck\")\n",
    "}\n",
    "if(num>=55&num<=80){\n",
    "    print(\"Good Luck\")\n",
    "}"
   ]
  },
  {
   "cell_type": "code",
   "execution_count": 14,
   "id": "00894fc1",
   "metadata": {},
   "outputs": [
    {
     "name": "stdout",
     "output_type": "stream",
     "text": [
      "[1] 2\n",
      "[1] 8\n",
      "[1] 6\n",
      "Total even number 3"
     ]
    }
   ],
   "source": [
    "x <- c(2,5,3,9,8,11,6)\n",
    "count <- 0\n",
    "for (val in x) {\n",
    "if(val %% 2 == 0){\n",
    "    count = count+1\n",
    "    print(val)\n",
    "}\n",
    "}\n",
    "cat(\"Total even number\",count)"
   ]
  },
  {
   "cell_type": "code",
   "execution_count": 15,
   "id": "c22960ba",
   "metadata": {},
   "outputs": [
    {
     "name": "stdout",
     "output_type": "stream",
     "text": [
      "[1] 1\n",
      "[1] 2\n",
      "[1] 3\n",
      "[1] 4\n",
      "[1] 5\n"
     ]
    }
   ],
   "source": [
    "i <- 1\n",
    "while (i < 6) {\n",
    "print(i)\n",
    "i = i+1\n",
    "}"
   ]
  },
  {
   "cell_type": "code",
   "execution_count": 16,
   "id": "45d1c82d",
   "metadata": {},
   "outputs": [
    {
     "name": "stdout",
     "output_type": "stream",
     "text": [
      "[1] 1\n",
      "[1] 2\n"
     ]
    }
   ],
   "source": [
    "x <- 1:5\n",
    "for (val in x) {\n",
    "if (val == 3){\n",
    "break\n",
    "}\n",
    "print(val)\n",
    "}"
   ]
  },
  {
   "cell_type": "code",
   "execution_count": 17,
   "id": "1512ac07",
   "metadata": {},
   "outputs": [
    {
     "name": "stdout",
     "output_type": "stream",
     "text": [
      "[1] 1\n",
      "[1] 2\n",
      "[1] 4\n",
      "[1] 5\n"
     ]
    }
   ],
   "source": [
    "x <- 1:5\n",
    "for (val in x) {\n",
    "if (val == 3){\n",
    "next\n",
    "}\n",
    "print(val)\n",
    "}"
   ]
  }
 ],
 "metadata": {
  "kernelspec": {
   "display_name": "R",
   "language": "R",
   "name": "ir"
  },
  "language_info": {
   "codemirror_mode": "r",
   "file_extension": ".r",
   "mimetype": "text/x-r-source",
   "name": "R",
   "pygments_lexer": "r",
   "version": "3.6.1"
  }
 },
 "nbformat": 4,
 "nbformat_minor": 5
}
