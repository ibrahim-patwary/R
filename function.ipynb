{
 "cells": [
  {
   "cell_type": "code",
   "execution_count": 1,
   "id": "d8fed8e8",
   "metadata": {},
   "outputs": [],
   "source": [
    "pow <- function(x, y) {\n",
    "# function to print x raised to the power y\n",
    "result <- x^y\n",
    "print(paste(x,\"raised to the power\", y, \"is\", result))\n",
    "}"
   ]
  },
  {
   "cell_type": "code",
   "execution_count": 2,
   "id": "ca86b847",
   "metadata": {},
   "outputs": [
    {
     "name": "stdout",
     "output_type": "stream",
     "text": [
      "[1] \"8 raised to the power 2 is 64\"\n",
      "[1] \"2 raised to the power 8 is 256\"\n",
      "[1] \"5 raised to the power 2 is 25\"\n",
      "[1] \"3 raised to the power 3 is 27\"\n"
     ]
    }
   ],
   "source": [
    "pow(8, 2)\n",
    "pow(2, 8)\n",
    "pow(5, 2)\n",
    "pow(3, 3)"
   ]
  }
 ],
 "metadata": {
  "kernelspec": {
   "display_name": "R",
   "language": "R",
   "name": "ir"
  },
  "language_info": {
   "codemirror_mode": "r",
   "file_extension": ".r",
   "mimetype": "text/x-r-source",
   "name": "R",
   "pygments_lexer": "r",
   "version": "3.6.1"
  }
 },
 "nbformat": 4,
 "nbformat_minor": 5
}
